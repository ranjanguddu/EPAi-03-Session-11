{
  "nbformat": 4,
  "nbformat_minor": 0,
  "metadata": {
    "colab": {
      "name": "Untitled44.ipynb",
      "provenance": []
    },
    "kernelspec": {
      "name": "python3",
      "display_name": "Python 3"
    },
    "language_info": {
      "name": "python"
    }
  },
  "cells": [
    {
      "cell_type": "code",
      "metadata": {
        "id": "5AeAN4gkGoXK"
      },
      "source": [
        "from Polygon import *\n",
        "from Polygon_iter import *"
      ],
      "execution_count": 1,
      "outputs": []
    },
    {
      "cell_type": "markdown",
      "metadata": {
        "id": "sFyrPjruHhE3"
      },
      "source": [
        "**There is a class name Poly within Polygon_iter file which makes Polygon class iterable as well as Itertor.**"
      ]
    },
    {
      "cell_type": "code",
      "metadata": {
        "colab": {
          "base_uri": "https://localhost:8080/"
        },
        "id": "7aAKOESJHFCg",
        "outputId": "a537bd45-c181-4702-f391-ecb5af8a9e35"
      },
      "source": [
        "poly = Poly(5)"
      ],
      "execution_count": 8,
      "outputs": [
        {
          "output_type": "stream",
          "text": [
            "Calling Poly __init__ \n"
          ],
          "name": "stdout"
        }
      ]
    },
    {
      "cell_type": "code",
      "metadata": {
        "colab": {
          "base_uri": "https://localhost:8080/"
        },
        "id": "kNL5HzqUIVKz",
        "outputId": "9a74134a-3c83-426f-bfad-020182134542"
      },
      "source": [
        "list(poly)"
      ],
      "execution_count": 15,
      "outputs": [
        {
          "output_type": "stream",
          "text": [
            "Calling Polygon __init__ \n",
            "Calling Polygon __init__ \n",
            "Calling Polygon __init__ \n",
            "Calling Polygon __repr__ \n",
            "Calling Polygon __repr__ \n",
            "Calling Polygon __repr__ \n"
          ],
          "name": "stdout"
        },
        {
          "output_type": "execute_result",
          "data": {
            "text/plain": [
              "[Polygon having 3 sides and circumradius 15 units is created,\n",
              " Polygon having 4 sides and circumradius 15 units is created,\n",
              " Polygon having 5 sides and circumradius 15 units is created]"
            ]
          },
          "metadata": {
            "tags": []
          },
          "execution_count": 15
        }
      ]
    },
    {
      "cell_type": "code",
      "metadata": {
        "colab": {
          "base_uri": "https://localhost:8080/"
        },
        "id": "m-ajk6tQHDfF",
        "outputId": "93a21c55-2bd1-4f57-be0e-33d7caf6c8fc"
      },
      "source": [
        "poly"
      ],
      "execution_count": 9,
      "outputs": [
        {
          "output_type": "execute_result",
          "data": {
            "text/plain": [
              "<Polygon_iter.Poly at 0x7f5be325c3d0>"
            ]
          },
          "metadata": {
            "tags": []
          },
          "execution_count": 9
        }
      ]
    },
    {
      "cell_type": "code",
      "metadata": {
        "id": "dMxTk8VBH5n5"
      },
      "source": [
        "p = iter(poly)"
      ],
      "execution_count": 10,
      "outputs": []
    },
    {
      "cell_type": "code",
      "metadata": {
        "colab": {
          "base_uri": "https://localhost:8080/"
        },
        "id": "ct8FXVQGH-6A",
        "outputId": "281b4fe1-6981-478e-ac2d-38d10dd3ef53"
      },
      "source": [
        "next(p)"
      ],
      "execution_count": 11,
      "outputs": [
        {
          "output_type": "stream",
          "text": [
            "Calling Polygon __init__ \n",
            "Calling Polygon __repr__ \n"
          ],
          "name": "stdout"
        },
        {
          "output_type": "execute_result",
          "data": {
            "text/plain": [
              "Polygon having 3 sides and circumradius 15 units is created"
            ]
          },
          "metadata": {
            "tags": []
          },
          "execution_count": 11
        }
      ]
    },
    {
      "cell_type": "code",
      "metadata": {
        "colab": {
          "base_uri": "https://localhost:8080/"
        },
        "id": "cm05KAL6IBnA",
        "outputId": "1c53ab56-ee30-44cf-e3d8-62f556c9b1da"
      },
      "source": [
        "next(p)"
      ],
      "execution_count": 12,
      "outputs": [
        {
          "output_type": "stream",
          "text": [
            "Calling Polygon __init__ \n",
            "Calling Polygon __repr__ \n"
          ],
          "name": "stdout"
        },
        {
          "output_type": "execute_result",
          "data": {
            "text/plain": [
              "Polygon having 4 sides and circumradius 15 units is created"
            ]
          },
          "metadata": {
            "tags": []
          },
          "execution_count": 12
        }
      ]
    },
    {
      "cell_type": "code",
      "metadata": {
        "colab": {
          "base_uri": "https://localhost:8080/"
        },
        "id": "CoTGu5vIIIGO",
        "outputId": "c270c065-dcb3-42c2-9efb-d61dad227bea"
      },
      "source": [
        "next(p)"
      ],
      "execution_count": 13,
      "outputs": [
        {
          "output_type": "stream",
          "text": [
            "Calling Polygon __init__ \n",
            "Calling Polygon __repr__ \n"
          ],
          "name": "stdout"
        },
        {
          "output_type": "execute_result",
          "data": {
            "text/plain": [
              "Polygon having 5 sides and circumradius 15 units is created"
            ]
          },
          "metadata": {
            "tags": []
          },
          "execution_count": 13
        }
      ]
    },
    {
      "cell_type": "code",
      "metadata": {
        "colab": {
          "base_uri": "https://localhost:8080/",
          "height": 283
        },
        "id": "F6qXJ963IKBy",
        "outputId": "f881fa67-2636-4152-b6d9-7af6ce285181"
      },
      "source": [
        "next(p)"
      ],
      "execution_count": 14,
      "outputs": [
        {
          "output_type": "error",
          "ename": "StopIteration",
          "evalue": "ignored",
          "traceback": [
            "\u001b[0;31m---------------------------------------------------------------------------\u001b[0m",
            "\u001b[0;31mStopIteration\u001b[0m                             Traceback (most recent call last)",
            "\u001b[0;32m<ipython-input-14-edf152ee890d>\u001b[0m in \u001b[0;36m<module>\u001b[0;34m()\u001b[0m\n\u001b[0;32m----> 1\u001b[0;31m \u001b[0mnext\u001b[0m\u001b[0;34m(\u001b[0m\u001b[0mp\u001b[0m\u001b[0;34m)\u001b[0m\u001b[0;34m\u001b[0m\u001b[0;34m\u001b[0m\u001b[0m\n\u001b[0m",
            "\u001b[0;32m/content/Polygon_iter.py\u001b[0m in \u001b[0;36m__next__\u001b[0;34m(self)\u001b[0m\n\u001b[1;32m     29\u001b[0m                         \u001b[0;34m'''__next__ need to  be defined for an iterator '''\u001b[0m\u001b[0;34m\u001b[0m\u001b[0;34m\u001b[0m\u001b[0m\n\u001b[1;32m     30\u001b[0m                         \u001b[0;32mif\u001b[0m \u001b[0mself\u001b[0m\u001b[0;34m.\u001b[0m\u001b[0mctr\u001b[0m \u001b[0;34m>=\u001b[0m \u001b[0mself\u001b[0m\u001b[0;34m.\u001b[0m\u001b[0mvertices\u001b[0m\u001b[0;34m+\u001b[0m\u001b[0;36m1\u001b[0m\u001b[0;34m:\u001b[0m\u001b[0;34m\u001b[0m\u001b[0;34m\u001b[0m\u001b[0m\n\u001b[0;32m---> 31\u001b[0;31m                                 \u001b[0;32mraise\u001b[0m \u001b[0mStopIteration\u001b[0m\u001b[0;34m\u001b[0m\u001b[0;34m\u001b[0m\u001b[0m\n\u001b[0m\u001b[1;32m     32\u001b[0m \u001b[0;34m\u001b[0m\u001b[0m\n\u001b[1;32m     33\u001b[0m                         \u001b[0;32melse\u001b[0m\u001b[0;34m:\u001b[0m\u001b[0;34m\u001b[0m\u001b[0;34m\u001b[0m\u001b[0m\n",
            "\u001b[0;31mStopIteration\u001b[0m: "
          ]
        }
      ]
    },
    {
      "cell_type": "code",
      "metadata": {
        "colab": {
          "base_uri": "https://localhost:8080/"
        },
        "id": "m_sZs4vzIMDO",
        "outputId": "33fe77ea-db88-4718-cced-7f07fbc3faea"
      },
      "source": [
        "for item in poly:\n",
        "  print(item)"
      ],
      "execution_count": 16,
      "outputs": [
        {
          "output_type": "stream",
          "text": [
            "Calling Polygon __init__ \n",
            "Calling Polygon __repr__ \n",
            "Polygon having 3 sides and circumradius 15 units is created\n",
            "\n",
            "Calling Polygon __init__ \n",
            "Calling Polygon __repr__ \n",
            "Polygon having 4 sides and circumradius 15 units is created\n",
            "\n",
            "Calling Polygon __init__ \n",
            "Calling Polygon __repr__ \n",
            "Polygon having 5 sides and circumradius 15 units is created\n",
            "\n"
          ],
          "name": "stdout"
        }
      ]
    }
  ]
}